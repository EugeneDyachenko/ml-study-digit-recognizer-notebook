{
  "nbformat": 4,
  "nbformat_minor": 0,
  "metadata": {
    "colab": {
      "name": "MNIST.ipynb",
      "provenance": [],
      "collapsed_sections": [],
      "authorship_tag": "ABX9TyMiwh09nn7ogjMOzFQhAnRE",
      "include_colab_link": true
    },
    "kernelspec": {
      "name": "python3",
      "display_name": "Python 3"
    },
    "accelerator": "GPU"
  },
  "cells": [
    {
      "cell_type": "markdown",
      "metadata": {
        "id": "view-in-github",
        "colab_type": "text"
      },
      "source": [
        "<a href=\"https://colab.research.google.com/github/EugeneDyachenko/ml-study-digit-recognizer-notebook/blob/master/MNIST.ipynb\" target=\"_parent\"><img src=\"https://colab.research.google.com/assets/colab-badge.svg\" alt=\"Open In Colab\"/></a>"
      ]
    },
    {
      "cell_type": "code",
      "metadata": {
        "id": "SUwsWpodRFL_",
        "colab_type": "code",
        "colab": {
          "base_uri": "https://localhost:8080/",
          "height": 34
        },
        "outputId": "cdd20160-e9ed-48d0-8a5d-64e635645d8d"
      },
      "source": [
        "import numpy as np\n",
        "import pandas as pd\n",
        "import tensorflow as tf\n",
        "from sklearn.model_selection import train_test_split\n",
        "from tensorflow import keras\n",
        "import matplotlib.pyplot as plt\n",
        "from tensorflow.keras.preprocessing.image import ImageDataGenerator \n",
        "from tensorflow.keras.layers import Conv2D, Dense, Flatten, BatchNormalization, Dropout, MaxPooling2D\n",
        "tf.test.gpu_device_name()\n",
        "\n",
        "!pwd"
      ],
      "execution_count": 1,
      "outputs": [
        {
          "output_type": "stream",
          "text": [
            "/content\n"
          ],
          "name": "stdout"
        }
      ]
    },
    {
      "cell_type": "code",
      "metadata": {
        "id": "P5wTJKvIRHkX",
        "colab_type": "code",
        "colab": {
          "base_uri": "https://localhost:8080/",
          "height": 51
        },
        "outputId": "ed2fb3f4-60b9-4882-cb06-d33488c3563d"
      },
      "source": [
        "train = pd.read_csv('train.csv')\n",
        "test = pd.read_csv('test.csv')\n",
        "\n",
        "print('train shape is {}'.format(train.shape))\n",
        "print('valid shape is {}'.format(test.shape))"
      ],
      "execution_count": 2,
      "outputs": [
        {
          "output_type": "stream",
          "text": [
            "train shape is (42000, 785)\n",
            "valid shape is (28000, 784)\n"
          ],
          "name": "stdout"
        }
      ]
    },
    {
      "cell_type": "code",
      "metadata": {
        "id": "4wQk8KZzL5K6",
        "colab_type": "code",
        "colab": {
          "base_uri": "https://localhost:8080/",
          "height": 68
        },
        "outputId": "166ad943-0dad-4494-f43e-4079e0ba35d2"
      },
      "source": [
        "image_size_2D = 28\n",
        "image_size_1D = image_size_2D * image_size_2D\n",
        "\n",
        "train_values = train.to_numpy()\n",
        "\n",
        "X_valid = test.to_numpy()\n",
        "\n",
        "X_all = train_values[:, 1:]\n",
        "Y_all = keras.utils.to_categorical(train_values[:, 0], num_classes=10)\n",
        "\n",
        "X_train, X_test, Y_train, Y_test = train_test_split(X_all, Y_all, test_size=0.1)\n",
        "\n",
        "print('Number of classes {}'.format(Y_train.shape[1]))\n",
        "print('Number of train examples {}'.format(X_train.shape[0]))\n",
        "print('Number of test exapmples {}'.format(X_test.shape[0]))"
      ],
      "execution_count": 3,
      "outputs": [
        {
          "output_type": "stream",
          "text": [
            "Number of classes 10\n",
            "Number of train examples 37800\n",
            "Number of test exapmples 4200\n"
          ],
          "name": "stdout"
        }
      ]
    },
    {
      "cell_type": "code",
      "metadata": {
        "id": "TeqgA4Q4Z4KA",
        "colab_type": "code",
        "colab": {}
      },
      "source": [
        "image_to_3D = lambda image: image.reshape(-1, image_size_2D, image_size_2D, 1)"
      ],
      "execution_count": 4,
      "outputs": []
    },
    {
      "cell_type": "code",
      "metadata": {
        "id": "-R_ASY0ZOrQu",
        "colab_type": "code",
        "colab": {
          "base_uri": "https://localhost:8080/",
          "height": 187
        },
        "outputId": "a6f6c397-49ec-49a9-bbdf-bafaed7bf051"
      },
      "source": [
        "# train 0.8959\n",
        "# kaggle score 0.88900\n",
        "def get_simple_model():\n",
        "  model = keras.Sequential()\n",
        "\n",
        "  model.add(Dense(units=10, activation='softmax', name='layer_1', input_shape=(image_size_1D, )))\n",
        "\n",
        "  return model\n",
        "\n",
        "\n",
        "get_simple_model().summary()"
      ],
      "execution_count": 5,
      "outputs": [
        {
          "output_type": "stream",
          "text": [
            "Model: \"sequential\"\n",
            "_________________________________________________________________\n",
            "Layer (type)                 Output Shape              Param #   \n",
            "=================================================================\n",
            "layer_1 (Dense)              (None, 10)                7850      \n",
            "=================================================================\n",
            "Total params: 7,850\n",
            "Trainable params: 7,850\n",
            "Non-trainable params: 0\n",
            "_________________________________________________________________\n"
          ],
          "name": "stdout"
        }
      ]
    },
    {
      "cell_type": "code",
      "metadata": {
        "id": "B_U_K2r4PHsM",
        "colab_type": "code",
        "colab": {
          "base_uri": "https://localhost:8080/",
          "height": 357
        },
        "outputId": "383b7b5d-8c3a-431d-8159-99f86dbf704d"
      },
      "source": [
        "# batch=128, rate=0.05\n",
        "# train 0.9879 batch=128, rate=0.05\n",
        "# kaggle score 0.97196\n",
        "def get_cnn_model_v1():\n",
        "  model = keras.Sequential()\n",
        "  \n",
        "  model.add(Conv2D(filters=8, kernel_size=(3, 3), activation='relu', name='conv_1', input_shape=(image_size_2D, image_size_2D, 1)))\n",
        "  model.add(Conv2D(filters=16, kernel_size=(3, 3), activation='relu', name='conv_2'))\n",
        "  model.add(Conv2D(filters=32, kernel_size=(3, 3), activation='relu', name='conv_3'))\n",
        "  model.add(Conv2D(filters=64, kernel_size=(3, 3), activation='relu', name='conv_4'))\n",
        "\n",
        "  model.add(Flatten(name='flatten'))\n",
        "  model.add(Dense(units=10, activation='softmax', name='dense_5'))\n",
        "\n",
        "  return model\n",
        "\n",
        "\n",
        "get_cnn_model_v1().summary()"
      ],
      "execution_count": 6,
      "outputs": [
        {
          "output_type": "stream",
          "text": [
            "Model: \"sequential_1\"\n",
            "_________________________________________________________________\n",
            "Layer (type)                 Output Shape              Param #   \n",
            "=================================================================\n",
            "conv_1 (Conv2D)              (None, 26, 26, 8)         80        \n",
            "_________________________________________________________________\n",
            "conv_2 (Conv2D)              (None, 24, 24, 16)        1168      \n",
            "_________________________________________________________________\n",
            "conv_3 (Conv2D)              (None, 22, 22, 32)        4640      \n",
            "_________________________________________________________________\n",
            "conv_4 (Conv2D)              (None, 20, 20, 64)        18496     \n",
            "_________________________________________________________________\n",
            "flatten (Flatten)            (None, 25600)             0         \n",
            "_________________________________________________________________\n",
            "dense_5 (Dense)              (None, 10)                256010    \n",
            "=================================================================\n",
            "Total params: 280,394\n",
            "Trainable params: 280,394\n",
            "Non-trainable params: 0\n",
            "_________________________________________________________________\n"
          ],
          "name": "stdout"
        }
      ]
    },
    {
      "cell_type": "code",
      "metadata": {
        "id": "BrX-FIu95qP_",
        "colab_type": "code",
        "colab": {
          "base_uri": "https://localhost:8080/",
          "height": 969
        },
        "outputId": "2f0ef8d2-2bc7-41f9-8866-30837b66615c"
      },
      "source": [
        "# train 0.9899\n",
        "# kaggle score 0.99457 \n",
        "# batch=256, epochs=100, rate=0.005\n",
        "def get_cnn_model_v2():\n",
        "  model = keras.Sequential()\n",
        "\n",
        "  model.add(Conv2D(filters=32, kernel_size=(3, 3), padding='same', activation='relu', name='conv_1_1', input_shape=(image_size_2D, image_size_2D, 1)))\n",
        "  model.add(BatchNormalization(name='normalization_1_1'))\n",
        "  model.add(Conv2D(filters=32, kernel_size=(3, 3), padding='same', activation='relu', name='conv_1_2'))\n",
        "  model.add(MaxPooling2D(pool_size=(2, 2), name='max_pool_1'))\n",
        "  model.add(BatchNormalization(name='normalization_1_2'))\n",
        "  model.add(Dropout(0.7, name='dropout_1'))\n",
        "\n",
        "  model.add(Conv2D(filters=64, kernel_size=(3, 3), padding='same', activation='relu', name='conv_2_1'))\n",
        "  model.add(BatchNormalization(name='normalization_2_1'))\n",
        "  model.add(Conv2D(filters=64, kernel_size=(3, 3), padding='same', activation='relu', name='conv_2_2'))\n",
        "  model.add(BatchNormalization(name='normalization_2_2'))\n",
        "  model.add(Conv2D(filters=64, kernel_size=(3, 3), padding='same', activation='relu', name='conv_2_3'))\n",
        "  model.add(BatchNormalization(name='normalization_2_3'))\n",
        "  model.add(MaxPooling2D(pool_size=(2, 2), name='max_pool_2'))\n",
        "  model.add(Dropout(0.5, name='dropout_2'))\n",
        "\n",
        "  model.add(Conv2D(filters=128, kernel_size=(3, 3), padding='same', activation='relu', name='conv_3_1'))\n",
        "  model.add(BatchNormalization(name='normalization_3_1'))\n",
        "  model.add(Conv2D(filters=128, kernel_size=(3, 3), padding='same', activation='relu', name='conv_3_2'))\n",
        "  model.add(MaxPooling2D(pool_size=(2, 2), name='max_pool_3'))\n",
        "  model.add(BatchNormalization(name='normalization_3_2'))\n",
        "  model.add(Dropout(0.6, name='dropout_3'))\n",
        "\n",
        "  model.add(Flatten(name='flatten'))\n",
        "  model.add(Dense(units=128, activation='relu', name='dense_4'))\n",
        "  model.add(Dropout(0.5, name='dropout_4'))\n",
        "  model.add(Dense(units=10, activation='softmax', name='normalization_4_2'))\n",
        "\n",
        "  return model\n",
        "\n",
        "get_cnn_model_v2().summary()"
      ],
      "execution_count": 7,
      "outputs": [
        {
          "output_type": "stream",
          "text": [
            "Model: \"sequential_2\"\n",
            "_________________________________________________________________\n",
            "Layer (type)                 Output Shape              Param #   \n",
            "=================================================================\n",
            "conv_1_1 (Conv2D)            (None, 28, 28, 32)        320       \n",
            "_________________________________________________________________\n",
            "normalization_1_1 (BatchNorm (None, 28, 28, 32)        128       \n",
            "_________________________________________________________________\n",
            "conv_1_2 (Conv2D)            (None, 28, 28, 32)        9248      \n",
            "_________________________________________________________________\n",
            "max_pool_1 (MaxPooling2D)    (None, 14, 14, 32)        0         \n",
            "_________________________________________________________________\n",
            "normalization_1_2 (BatchNorm (None, 14, 14, 32)        128       \n",
            "_________________________________________________________________\n",
            "dropout_1 (Dropout)          (None, 14, 14, 32)        0         \n",
            "_________________________________________________________________\n",
            "conv_2_1 (Conv2D)            (None, 14, 14, 64)        18496     \n",
            "_________________________________________________________________\n",
            "normalization_2_1 (BatchNorm (None, 14, 14, 64)        256       \n",
            "_________________________________________________________________\n",
            "conv_2_2 (Conv2D)            (None, 14, 14, 64)        36928     \n",
            "_________________________________________________________________\n",
            "normalization_2_2 (BatchNorm (None, 14, 14, 64)        256       \n",
            "_________________________________________________________________\n",
            "conv_2_3 (Conv2D)            (None, 14, 14, 64)        36928     \n",
            "_________________________________________________________________\n",
            "normalization_2_3 (BatchNorm (None, 14, 14, 64)        256       \n",
            "_________________________________________________________________\n",
            "max_pool_2 (MaxPooling2D)    (None, 7, 7, 64)          0         \n",
            "_________________________________________________________________\n",
            "dropout_2 (Dropout)          (None, 7, 7, 64)          0         \n",
            "_________________________________________________________________\n",
            "conv_3_1 (Conv2D)            (None, 7, 7, 128)         73856     \n",
            "_________________________________________________________________\n",
            "normalization_3_1 (BatchNorm (None, 7, 7, 128)         512       \n",
            "_________________________________________________________________\n",
            "conv_3_2 (Conv2D)            (None, 7, 7, 128)         147584    \n",
            "_________________________________________________________________\n",
            "max_pool_3 (MaxPooling2D)    (None, 3, 3, 128)         0         \n",
            "_________________________________________________________________\n",
            "normalization_3_2 (BatchNorm (None, 3, 3, 128)         512       \n",
            "_________________________________________________________________\n",
            "dropout_3 (Dropout)          (None, 3, 3, 128)         0         \n",
            "_________________________________________________________________\n",
            "flatten (Flatten)            (None, 1152)              0         \n",
            "_________________________________________________________________\n",
            "dense_4 (Dense)              (None, 128)               147584    \n",
            "_________________________________________________________________\n",
            "dropout_4 (Dropout)          (None, 128)               0         \n",
            "_________________________________________________________________\n",
            "normalization_4_2 (Dense)    (None, 10)                1290      \n",
            "=================================================================\n",
            "Total params: 474,282\n",
            "Trainable params: 473,258\n",
            "Non-trainable params: 1,024\n",
            "_________________________________________________________________\n"
          ],
          "name": "stdout"
        }
      ]
    },
    {
      "cell_type": "code",
      "metadata": {
        "id": "hkOyPo0LPfHG",
        "colab_type": "code",
        "colab": {}
      },
      "source": [
        "model = get_cnn_model_v2()\n",
        "opt = keras.optimizers.Adam(learning_rate=0.005)\n",
        "\n",
        "model.compile(loss='categorical_crossentropy', optimizer=opt, metrics=['accuracy'])"
      ],
      "execution_count": 8,
      "outputs": []
    },
    {
      "cell_type": "code",
      "metadata": {
        "id": "8ElQOixDMtfo",
        "colab_type": "code",
        "colab": {}
      },
      "source": [
        "datagen = ImageDataGenerator(\n",
        "  rotation_range=15,\n",
        "  width_shift_range=0.1,\n",
        "  height_shift_range=0.1,\n",
        "  zoom_range=0.1,\n",
        ")\n",
        "datagen.fit(image_to_3D(X_train))"
      ],
      "execution_count": 9,
      "outputs": []
    },
    {
      "cell_type": "code",
      "metadata": {
        "id": "BaIfvgKP1_dQ",
        "colab_type": "code",
        "colab": {
          "base_uri": "https://localhost:8080/",
          "height": 1000
        },
        "outputId": "2ec753a6-d3e8-47d8-f015-b143415408c7"
      },
      "source": [
        "history = None\n",
        "EPOCHS_COUNT = 100\n",
        "\n",
        "with tf.device('/device:GPU:0'):\n",
        "  history = model.fit_generator(\n",
        "      datagen.flow(\n",
        "        image_to_3D(X_train),\n",
        "        Y_train,\n",
        "        batch_size=256\n",
        "      ),\n",
        "      epochs=EPOCHS_COUNT,\n",
        "      validation_data=(image_to_3D(X_test), Y_test),\n",
        "      verbose=2\n",
        "  )"
      ],
      "execution_count": 10,
      "outputs": [
        {
          "output_type": "stream",
          "text": [
            "WARNING:tensorflow:From <ipython-input-10-84202cbe135e>:13: Model.fit_generator (from tensorflow.python.keras.engine.training) is deprecated and will be removed in a future version.\n",
            "Instructions for updating:\n",
            "Please use Model.fit, which supports generators.\n",
            "Epoch 1/100\n",
            "148/148 - 8s - loss: 1.1874 - accuracy: 0.5962 - val_loss: 0.9138 - val_accuracy: 0.8414\n",
            "Epoch 2/100\n",
            "148/148 - 8s - loss: 0.3220 - accuracy: 0.9072 - val_loss: 0.2358 - val_accuracy: 0.9531\n",
            "Epoch 3/100\n",
            "148/148 - 8s - loss: 0.2091 - accuracy: 0.9429 - val_loss: 0.1237 - val_accuracy: 0.9688\n",
            "Epoch 4/100\n",
            "148/148 - 8s - loss: 0.1675 - accuracy: 0.9530 - val_loss: 0.1220 - val_accuracy: 0.9674\n",
            "Epoch 5/100\n",
            "148/148 - 8s - loss: 0.1466 - accuracy: 0.9608 - val_loss: 0.0461 - val_accuracy: 0.9857\n",
            "Epoch 6/100\n",
            "148/148 - 8s - loss: 0.1280 - accuracy: 0.9663 - val_loss: 0.0461 - val_accuracy: 0.9871\n",
            "Epoch 7/100\n",
            "148/148 - 8s - loss: 0.1100 - accuracy: 0.9703 - val_loss: 0.0467 - val_accuracy: 0.9850\n",
            "Epoch 8/100\n",
            "148/148 - 8s - loss: 0.1064 - accuracy: 0.9705 - val_loss: 0.0342 - val_accuracy: 0.9895\n",
            "Epoch 9/100\n",
            "148/148 - 8s - loss: 0.0983 - accuracy: 0.9732 - val_loss: 0.0590 - val_accuracy: 0.9829\n",
            "Epoch 10/100\n",
            "148/148 - 8s - loss: 0.0928 - accuracy: 0.9751 - val_loss: 0.0318 - val_accuracy: 0.9900\n",
            "Epoch 11/100\n",
            "148/148 - 8s - loss: 0.0842 - accuracy: 0.9771 - val_loss: 0.0254 - val_accuracy: 0.9929\n",
            "Epoch 12/100\n",
            "148/148 - 8s - loss: 0.0829 - accuracy: 0.9772 - val_loss: 0.0307 - val_accuracy: 0.9912\n",
            "Epoch 13/100\n",
            "148/148 - 8s - loss: 0.0760 - accuracy: 0.9793 - val_loss: 0.0597 - val_accuracy: 0.9826\n",
            "Epoch 14/100\n",
            "148/148 - 8s - loss: 0.0735 - accuracy: 0.9796 - val_loss: 0.0350 - val_accuracy: 0.9893\n",
            "Epoch 15/100\n",
            "148/148 - 8s - loss: 0.0715 - accuracy: 0.9799 - val_loss: 0.0292 - val_accuracy: 0.9907\n",
            "Epoch 16/100\n",
            "148/148 - 8s - loss: 0.0693 - accuracy: 0.9806 - val_loss: 0.0249 - val_accuracy: 0.9921\n",
            "Epoch 17/100\n",
            "148/148 - 8s - loss: 0.0698 - accuracy: 0.9819 - val_loss: 0.0245 - val_accuracy: 0.9914\n",
            "Epoch 18/100\n",
            "148/148 - 8s - loss: 0.0653 - accuracy: 0.9827 - val_loss: 0.0284 - val_accuracy: 0.9924\n",
            "Epoch 19/100\n",
            "148/148 - 8s - loss: 0.0638 - accuracy: 0.9830 - val_loss: 0.0247 - val_accuracy: 0.9898\n",
            "Epoch 20/100\n",
            "148/148 - 8s - loss: 0.0624 - accuracy: 0.9830 - val_loss: 0.0280 - val_accuracy: 0.9917\n",
            "Epoch 21/100\n",
            "148/148 - 8s - loss: 0.0618 - accuracy: 0.9830 - val_loss: 0.0207 - val_accuracy: 0.9933\n",
            "Epoch 22/100\n",
            "148/148 - 8s - loss: 0.0638 - accuracy: 0.9832 - val_loss: 0.0313 - val_accuracy: 0.9907\n",
            "Epoch 23/100\n",
            "148/148 - 8s - loss: 0.0612 - accuracy: 0.9837 - val_loss: 0.0252 - val_accuracy: 0.9929\n",
            "Epoch 24/100\n",
            "148/148 - 8s - loss: 0.0578 - accuracy: 0.9848 - val_loss: 0.0185 - val_accuracy: 0.9938\n",
            "Epoch 25/100\n",
            "148/148 - 8s - loss: 0.0582 - accuracy: 0.9842 - val_loss: 0.0228 - val_accuracy: 0.9933\n",
            "Epoch 26/100\n",
            "148/148 - 8s - loss: 0.0541 - accuracy: 0.9852 - val_loss: 0.0253 - val_accuracy: 0.9936\n",
            "Epoch 27/100\n",
            "148/148 - 8s - loss: 0.0583 - accuracy: 0.9844 - val_loss: 0.0211 - val_accuracy: 0.9931\n",
            "Epoch 28/100\n",
            "148/148 - 8s - loss: 0.0566 - accuracy: 0.9847 - val_loss: 0.0278 - val_accuracy: 0.9929\n",
            "Epoch 29/100\n",
            "148/148 - 8s - loss: 0.0547 - accuracy: 0.9847 - val_loss: 0.0215 - val_accuracy: 0.9940\n",
            "Epoch 30/100\n",
            "148/148 - 8s - loss: 0.0556 - accuracy: 0.9852 - val_loss: 0.0385 - val_accuracy: 0.9879\n",
            "Epoch 31/100\n",
            "148/148 - 8s - loss: 0.0538 - accuracy: 0.9846 - val_loss: 0.0271 - val_accuracy: 0.9910\n",
            "Epoch 32/100\n",
            "148/148 - 8s - loss: 0.0576 - accuracy: 0.9850 - val_loss: 0.0161 - val_accuracy: 0.9933\n",
            "Epoch 33/100\n",
            "148/148 - 8s - loss: 0.0532 - accuracy: 0.9857 - val_loss: 0.0210 - val_accuracy: 0.9938\n",
            "Epoch 34/100\n",
            "148/148 - 8s - loss: 0.0535 - accuracy: 0.9858 - val_loss: 0.0198 - val_accuracy: 0.9938\n",
            "Epoch 35/100\n",
            "148/148 - 8s - loss: 0.0523 - accuracy: 0.9859 - val_loss: 0.0223 - val_accuracy: 0.9924\n",
            "Epoch 36/100\n",
            "148/148 - 8s - loss: 0.0468 - accuracy: 0.9872 - val_loss: 0.0216 - val_accuracy: 0.9940\n",
            "Epoch 37/100\n",
            "148/148 - 8s - loss: 0.0513 - accuracy: 0.9865 - val_loss: 0.0248 - val_accuracy: 0.9936\n",
            "Epoch 38/100\n",
            "148/148 - 8s - loss: 0.0512 - accuracy: 0.9866 - val_loss: 0.0177 - val_accuracy: 0.9938\n",
            "Epoch 39/100\n",
            "148/148 - 8s - loss: 0.0476 - accuracy: 0.9872 - val_loss: 0.0198 - val_accuracy: 0.9940\n",
            "Epoch 40/100\n",
            "148/148 - 8s - loss: 0.0497 - accuracy: 0.9873 - val_loss: 0.0194 - val_accuracy: 0.9945\n",
            "Epoch 41/100\n",
            "148/148 - 8s - loss: 0.0485 - accuracy: 0.9868 - val_loss: 0.0277 - val_accuracy: 0.9921\n",
            "Epoch 42/100\n",
            "148/148 - 8s - loss: 0.0519 - accuracy: 0.9866 - val_loss: 0.0218 - val_accuracy: 0.9940\n",
            "Epoch 43/100\n",
            "148/148 - 8s - loss: 0.0487 - accuracy: 0.9865 - val_loss: 0.0281 - val_accuracy: 0.9933\n",
            "Epoch 44/100\n",
            "148/148 - 8s - loss: 0.0480 - accuracy: 0.9877 - val_loss: 0.0215 - val_accuracy: 0.9929\n",
            "Epoch 45/100\n",
            "148/148 - 8s - loss: 0.0486 - accuracy: 0.9871 - val_loss: 0.0310 - val_accuracy: 0.9919\n",
            "Epoch 46/100\n",
            "148/148 - 8s - loss: 0.0507 - accuracy: 0.9862 - val_loss: 0.0244 - val_accuracy: 0.9914\n",
            "Epoch 47/100\n",
            "148/148 - 8s - loss: 0.0464 - accuracy: 0.9883 - val_loss: 0.0273 - val_accuracy: 0.9943\n",
            "Epoch 48/100\n",
            "148/148 - 8s - loss: 0.0518 - accuracy: 0.9869 - val_loss: 0.0232 - val_accuracy: 0.9929\n",
            "Epoch 49/100\n",
            "148/148 - 8s - loss: 0.0486 - accuracy: 0.9873 - val_loss: 0.0300 - val_accuracy: 0.9910\n",
            "Epoch 50/100\n",
            "148/148 - 8s - loss: 0.0489 - accuracy: 0.9873 - val_loss: 0.0240 - val_accuracy: 0.9931\n",
            "Epoch 51/100\n",
            "148/148 - 8s - loss: 0.0451 - accuracy: 0.9882 - val_loss: 0.0166 - val_accuracy: 0.9955\n",
            "Epoch 52/100\n",
            "148/148 - 8s - loss: 0.0417 - accuracy: 0.9885 - val_loss: 0.0211 - val_accuracy: 0.9938\n",
            "Epoch 53/100\n",
            "148/148 - 8s - loss: 0.0449 - accuracy: 0.9883 - val_loss: 0.0289 - val_accuracy: 0.9931\n",
            "Epoch 54/100\n",
            "148/148 - 8s - loss: 0.0474 - accuracy: 0.9881 - val_loss: 0.0485 - val_accuracy: 0.9871\n",
            "Epoch 55/100\n",
            "148/148 - 8s - loss: 0.0453 - accuracy: 0.9880 - val_loss: 0.0166 - val_accuracy: 0.9955\n",
            "Epoch 56/100\n",
            "148/148 - 8s - loss: 0.0453 - accuracy: 0.9878 - val_loss: 0.0207 - val_accuracy: 0.9931\n",
            "Epoch 57/100\n",
            "148/148 - 8s - loss: 0.0454 - accuracy: 0.9876 - val_loss: 0.0181 - val_accuracy: 0.9960\n",
            "Epoch 58/100\n",
            "148/148 - 8s - loss: 0.0449 - accuracy: 0.9879 - val_loss: 0.0228 - val_accuracy: 0.9940\n",
            "Epoch 59/100\n",
            "148/148 - 8s - loss: 0.0456 - accuracy: 0.9881 - val_loss: 0.0213 - val_accuracy: 0.9929\n",
            "Epoch 60/100\n",
            "148/148 - 8s - loss: 0.0404 - accuracy: 0.9893 - val_loss: 0.0192 - val_accuracy: 0.9957\n",
            "Epoch 61/100\n",
            "148/148 - 8s - loss: 0.0411 - accuracy: 0.9896 - val_loss: 0.0198 - val_accuracy: 0.9921\n",
            "Epoch 62/100\n",
            "148/148 - 8s - loss: 0.0454 - accuracy: 0.9886 - val_loss: 0.0243 - val_accuracy: 0.9938\n",
            "Epoch 63/100\n",
            "148/148 - 8s - loss: 0.0413 - accuracy: 0.9888 - val_loss: 0.0247 - val_accuracy: 0.9924\n",
            "Epoch 64/100\n",
            "148/148 - 8s - loss: 0.0401 - accuracy: 0.9898 - val_loss: 0.0261 - val_accuracy: 0.9924\n",
            "Epoch 65/100\n",
            "148/148 - 8s - loss: 0.0400 - accuracy: 0.9889 - val_loss: 0.0239 - val_accuracy: 0.9931\n",
            "Epoch 66/100\n",
            "148/148 - 8s - loss: 0.0439 - accuracy: 0.9892 - val_loss: 0.0180 - val_accuracy: 0.9943\n",
            "Epoch 67/100\n",
            "148/148 - 8s - loss: 0.0427 - accuracy: 0.9888 - val_loss: 0.0161 - val_accuracy: 0.9948\n",
            "Epoch 68/100\n",
            "148/148 - 8s - loss: 0.0445 - accuracy: 0.9881 - val_loss: 0.0222 - val_accuracy: 0.9936\n",
            "Epoch 69/100\n",
            "148/148 - 8s - loss: 0.0454 - accuracy: 0.9886 - val_loss: 0.0257 - val_accuracy: 0.9933\n",
            "Epoch 70/100\n",
            "148/148 - 8s - loss: 0.0468 - accuracy: 0.9878 - val_loss: 0.0148 - val_accuracy: 0.9952\n",
            "Epoch 71/100\n",
            "148/148 - 8s - loss: 0.0415 - accuracy: 0.9888 - val_loss: 0.0199 - val_accuracy: 0.9945\n",
            "Epoch 72/100\n",
            "148/148 - 8s - loss: 0.0385 - accuracy: 0.9897 - val_loss: 0.0153 - val_accuracy: 0.9952\n",
            "Epoch 73/100\n",
            "148/148 - 8s - loss: 0.0382 - accuracy: 0.9903 - val_loss: 0.0206 - val_accuracy: 0.9936\n",
            "Epoch 74/100\n",
            "148/148 - 8s - loss: 0.0431 - accuracy: 0.9892 - val_loss: 0.0278 - val_accuracy: 0.9917\n",
            "Epoch 75/100\n",
            "148/148 - 8s - loss: 0.0393 - accuracy: 0.9901 - val_loss: 0.0252 - val_accuracy: 0.9931\n",
            "Epoch 76/100\n",
            "148/148 - 8s - loss: 0.0415 - accuracy: 0.9889 - val_loss: 0.0220 - val_accuracy: 0.9960\n",
            "Epoch 77/100\n",
            "148/148 - 8s - loss: 0.0332 - accuracy: 0.9909 - val_loss: 0.0185 - val_accuracy: 0.9955\n",
            "Epoch 78/100\n",
            "148/148 - 8s - loss: 0.0362 - accuracy: 0.9910 - val_loss: 0.0174 - val_accuracy: 0.9962\n",
            "Epoch 79/100\n",
            "148/148 - 8s - loss: 0.0362 - accuracy: 0.9903 - val_loss: 0.0192 - val_accuracy: 0.9945\n",
            "Epoch 80/100\n",
            "148/148 - 8s - loss: 0.0378 - accuracy: 0.9899 - val_loss: 0.0230 - val_accuracy: 0.9926\n",
            "Epoch 81/100\n",
            "148/148 - 8s - loss: 0.0386 - accuracy: 0.9901 - val_loss: 0.0220 - val_accuracy: 0.9938\n",
            "Epoch 82/100\n",
            "148/148 - 8s - loss: 0.0388 - accuracy: 0.9899 - val_loss: 0.0191 - val_accuracy: 0.9950\n",
            "Epoch 83/100\n",
            "148/148 - 8s - loss: 0.0379 - accuracy: 0.9897 - val_loss: 0.0202 - val_accuracy: 0.9950\n",
            "Epoch 84/100\n",
            "148/148 - 8s - loss: 0.0368 - accuracy: 0.9906 - val_loss: 0.0180 - val_accuracy: 0.9938\n",
            "Epoch 85/100\n",
            "148/148 - 8s - loss: 0.0350 - accuracy: 0.9908 - val_loss: 0.0292 - val_accuracy: 0.9943\n",
            "Epoch 86/100\n",
            "148/148 - 8s - loss: 0.0381 - accuracy: 0.9900 - val_loss: 0.0433 - val_accuracy: 0.9907\n",
            "Epoch 87/100\n",
            "148/148 - 8s - loss: 0.0357 - accuracy: 0.9902 - val_loss: 0.0176 - val_accuracy: 0.9933\n",
            "Epoch 88/100\n",
            "148/148 - 8s - loss: 0.0429 - accuracy: 0.9886 - val_loss: 0.0262 - val_accuracy: 0.9917\n",
            "Epoch 89/100\n",
            "148/148 - 8s - loss: 0.0403 - accuracy: 0.9902 - val_loss: 0.0202 - val_accuracy: 0.9943\n",
            "Epoch 90/100\n",
            "148/148 - 8s - loss: 0.0392 - accuracy: 0.9903 - val_loss: 0.0291 - val_accuracy: 0.9917\n",
            "Epoch 91/100\n",
            "148/148 - 8s - loss: 0.0413 - accuracy: 0.9900 - val_loss: 0.0175 - val_accuracy: 0.9948\n",
            "Epoch 92/100\n",
            "148/148 - 8s - loss: 0.0360 - accuracy: 0.9904 - val_loss: 0.0142 - val_accuracy: 0.9948\n",
            "Epoch 93/100\n",
            "148/148 - 8s - loss: 0.0338 - accuracy: 0.9906 - val_loss: 0.0256 - val_accuracy: 0.9948\n",
            "Epoch 94/100\n",
            "148/148 - 8s - loss: 0.0348 - accuracy: 0.9910 - val_loss: 0.0299 - val_accuracy: 0.9943\n",
            "Epoch 95/100\n",
            "148/148 - 8s - loss: 0.0345 - accuracy: 0.9911 - val_loss: 0.0216 - val_accuracy: 0.9950\n",
            "Epoch 96/100\n",
            "148/148 - 8s - loss: 0.0352 - accuracy: 0.9908 - val_loss: 0.0187 - val_accuracy: 0.9948\n",
            "Epoch 97/100\n",
            "148/148 - 8s - loss: 0.0359 - accuracy: 0.9907 - val_loss: 0.0236 - val_accuracy: 0.9945\n",
            "Epoch 98/100\n",
            "148/148 - 8s - loss: 0.0335 - accuracy: 0.9914 - val_loss: 0.0316 - val_accuracy: 0.9921\n",
            "Epoch 99/100\n",
            "148/148 - 8s - loss: 0.0370 - accuracy: 0.9911 - val_loss: 0.0199 - val_accuracy: 0.9943\n",
            "Epoch 100/100\n",
            "148/148 - 8s - loss: 0.0393 - accuracy: 0.9899 - val_loss: 0.0220 - val_accuracy: 0.9948\n"
          ],
          "name": "stdout"
        }
      ]
    },
    {
      "cell_type": "code",
      "metadata": {
        "id": "DSXR8cWZUcVI",
        "colab_type": "code",
        "colab": {
          "base_uri": "https://localhost:8080/",
          "height": 499
        },
        "outputId": "39396f77-d844-427b-c33c-bd4d621101ee"
      },
      "source": [
        "epochs_range = range(1, EPOCHS_COUNT + 1)\n",
        "\n",
        "plt.figure(figsize=(10, 8))\n",
        "plt.subplot(2, 1, 1)\n",
        "plt.title('Loss')\n",
        "plt.plot(epochs_range, history.history['loss'], scaley='log')\n",
        "plt.plot(epochs_range, history.history['val_loss'], scaley='log')\n",
        "\n",
        "plt.subplot(2, 1, 2)\n",
        "plt.title('Accuracy')\n",
        "plt.plot(epochs_range, history.history['accuracy'], scaley='log')\n",
        "plt.plot(epochs_range, history.history['val_accuracy'], scaley='log')\n",
        "\n",
        "plt.yscale('log')\n",
        "plt.show()"
      ],
      "execution_count": 14,
      "outputs": [
        {
          "output_type": "display_data",
          "data": {
            "image/png": "[encoded data removed]",
            "text/plain": [
              "<Figure size 720x576 with 2 Axes>"
            ]
          },
          "metadata": {
            "tags": [],
            "needs_background": "light"
          }
        }
      ]
    },
    {
      "cell_type": "code",
      "metadata": {
        "id": "wYqlGM8X0yA6",
        "colab_type": "code",
        "colab": {}
      },
      "source": [
        "with tf.device('/device:GPU:0'):\n",
        "  # Y_valid = model.predict(X_valid) # For FC model\n",
        "  Y_valid = model.predict(X_valid.reshape(-1, image_size_2D, image_size_2D, 1))\n",
        "  tf.argmax(Y_valid, axis=0)\n",
        "  result = pd.DataFrame({ 'imageId': range(1, Y_valid.shape[0] + 1), 'Label': tf.argmax(Y_valid, axis=1) })\n",
        "  result.to_csv('result.csv', index=False)"
      ],
      "execution_count": 16,
      "outputs": []
    },
    {
      "cell_type": "markdown",
      "metadata": {
        "id": "RSIbtAN3Vn4w",
        "colab_type": "text"
      },
      "source": [
        "https://www.kaggle.com/c/digit-recognizer/leaderboard <br>\n",
        "Final kaggle score is 0.99457 (top 18%) "
      ]
    }
  ]
}