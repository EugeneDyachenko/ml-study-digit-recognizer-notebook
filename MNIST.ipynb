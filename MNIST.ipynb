{
  "nbformat": 4,
  "nbformat_minor": 0,
  "metadata": {
    "colab": {
      "name": "MNIST.ipynb",
      "provenance": [],
      "authorship_tag": "ABX9TyOVFaEemHOGRNn8CJJCeVWu",
      "include_colab_link": true
    },
    "kernelspec": {
      "name": "python3",
      "display_name": "Python 3"
    },
    "accelerator": "GPU"
  },
  "cells": [
    {
      "cell_type": "markdown",
      "metadata": {
        "id": "view-in-github",
        "colab_type": "text"
      },
      "source": [
        "<a href=\"https://colab.research.google.com/github/EugeneDyachenko/ml-study-digit-recognizer-notebook/blob/master/MNIST.ipynb\" target=\"_parent\"><img src=\"https://colab.research.google.com/assets/colab-badge.svg\" alt=\"Open In Colab\"/></a>"
      ]
    },
    {
      "cell_type": "code",
      "metadata": {
        "id": "SUwsWpodRFL_",
        "colab_type": "code",
        "colab": {
          "base_uri": "https://localhost:8080/",
          "height": 34
        },
        "outputId": "4036fdf4-f9c5-4700-8c9b-243c187cc876"
      },
      "source": [
        "import numpy as np\n",
        "import pandas as pd\n",
        "import tensorflow as tf\n",
        "from sklearn.model_selection import train_test_split\n",
        "from tensorflow import keras\n",
        "import matplotlib.pyplot as plt\n",
        "from tensorflow.keras.preprocessing.image import ImageDataGenerator \n",
        "from tensorflow.keras.layers import Conv2D, Dense, Flatten, BatchNormalization, Dropout, MaxPooling2D\n",
        "tf.test.gpu_device_name()\n",
        "\n",
        "!pwd"
      ],
      "execution_count": 42,
      "outputs": [
        {
          "output_type": "stream",
          "text": [
            "/content\n"
          ],
          "name": "stdout"
        }
      ]
    },
    {
      "cell_type": "code",
      "metadata": {
        "id": "P5wTJKvIRHkX",
        "colab_type": "code",
        "colab": {
          "base_uri": "https://localhost:8080/",
          "height": 51
        },
        "outputId": "62683d37-9ac4-4a20-97a6-28e0d248fbe7"
      },
      "source": [
        "train = pd.read_csv('train.csv')\n",
        "test = pd.read_csv('test.csv')\n",
        "\n",
        "print('train shape is {}'.format(train.shape))\n",
        "print('valid shape is {}'.format(test.shape))"
      ],
      "execution_count": 43,
      "outputs": [
        {
          "output_type": "stream",
          "text": [
            "train shape is (42000, 785)\n",
            "valid shape is (28000, 784)\n"
          ],
          "name": "stdout"
        }
      ]
    },
    {
      "cell_type": "code",
      "metadata": {
        "id": "4wQk8KZzL5K6",
        "colab_type": "code",
        "colab": {
          "base_uri": "https://localhost:8080/",
          "height": 68
        },
        "outputId": "934d963e-2022-4947-fcc6-e6f9461c7e32"
      },
      "source": [
        "image_size_2D = 28\n",
        "image_size_1D = image_size_2D * image_size_2D\n",
        "\n",
        "train_values = train.to_numpy()\n",
        "\n",
        "X_valid = test.to_numpy()\n",
        "\n",
        "X_all = train_values[:, 1:]\n",
        "Y_all = keras.utils.to_categorical(train_values[:, 0], num_classes=10)\n",
        "\n",
        "X_train, X_test, Y_train, Y_test = train_test_split(X_all, Y_all, test_size=0.1)\n",
        "\n",
        "print('Number of classes {}'.format(Y_train.shape[1]))\n",
        "print('Number of train examples {}'.format(X_train.shape[0]))\n",
        "print('Number of test exapmples {}'.format(X_test.shape[0]))"
      ],
      "execution_count": 68,
      "outputs": [
        {
          "output_type": "stream",
          "text": [
            "Number of classes 10\n",
            "Number of train examples 37800\n",
            "Number of test exapmples 4200\n"
          ],
          "name": "stdout"
        }
      ]
    },
    {
      "cell_type": "code",
      "metadata": {
        "id": "TeqgA4Q4Z4KA",
        "colab_type": "code",
        "colab": {}
      },
      "source": [
        "image_to_3D = lambda image: image.reshape(-1, image_size_2D, image_size_2D, 1)"
      ],
      "execution_count": 45,
      "outputs": []
    },
    {
      "cell_type": "code",
      "metadata": {
        "id": "-R_ASY0ZOrQu",
        "colab_type": "code",
        "colab": {
          "base_uri": "https://localhost:8080/",
          "height": 187
        },
        "outputId": "eae4a85a-b77c-4f07-a64e-8fbe1df71127"
      },
      "source": [
        "# train 0.8959\n",
        "# kaggle score 0.88900\n",
        "def get_simple_model():\n",
        "  model = keras.Sequential()\n",
        "\n",
        "  model.add(Dense(units=10, activation='softmax', name='layer_1', input_shape=(image_size_1D, )))\n",
        "\n",
        "  return model\n",
        "\n",
        "\n",
        "get_simple_model().summary()"
      ],
      "execution_count": 46,
      "outputs": [
        {
          "output_type": "stream",
          "text": [
            "Model: \"sequential_19\"\n",
            "_________________________________________________________________\n",
            "Layer (type)                 Output Shape              Param #   \n",
            "=================================================================\n",
            "layer_1 (Dense)              (None, 10)                7850      \n",
            "=================================================================\n",
            "Total params: 7,850\n",
            "Trainable params: 7,850\n",
            "Non-trainable params: 0\n",
            "_________________________________________________________________\n"
          ],
          "name": "stdout"
        }
      ]
    },
    {
      "cell_type": "code",
      "metadata": {
        "id": "B_U_K2r4PHsM",
        "colab_type": "code",
        "colab": {
          "base_uri": "https://localhost:8080/",
          "height": 357
        },
        "outputId": "635771b8-605b-46c4-de90-16b9667cbe5b"
      },
      "source": [
        "# batch=128, rate=0.05\n",
        "# train 0.9879 batch=128, rate=0.05\n",
        "# kaggle score 0.97196\n",
        "def get_cnn_model_v1():\n",
        "  model = keras.Sequential()\n",
        "  \n",
        "  model.add(Conv2D(filters=8, kernel_size=(3, 3), activation='relu', name='conv_1', input_shape=(image_size_2D, image_size_2D, 1)))\n",
        "  model.add(Conv2D(filters=16, kernel_size=(3, 3), activation='relu', name='conv_2'))\n",
        "  model.add(Conv2D(filters=32, kernel_size=(3, 3), activation='relu', name='conv_3'))\n",
        "  model.add(Conv2D(filters=64, kernel_size=(3, 3), activation='relu', name='conv_4'))\n",
        "\n",
        "  model.add(Flatten(name='flatten'))\n",
        "  model.add(Dense(units=10, activation='softmax', name='dense_5'))\n",
        "\n",
        "  return model\n",
        "\n",
        "\n",
        "get_cnn_model_v1().summary()"
      ],
      "execution_count": 47,
      "outputs": [
        {
          "output_type": "stream",
          "text": [
            "Model: \"sequential_20\"\n",
            "_________________________________________________________________\n",
            "Layer (type)                 Output Shape              Param #   \n",
            "=================================================================\n",
            "conv_1 (Conv2D)              (None, 26, 26, 8)         80        \n",
            "_________________________________________________________________\n",
            "conv_2 (Conv2D)              (None, 24, 24, 16)        1168      \n",
            "_________________________________________________________________\n",
            "conv_3 (Conv2D)              (None, 22, 22, 32)        4640      \n",
            "_________________________________________________________________\n",
            "conv_4 (Conv2D)              (None, 20, 20, 64)        18496     \n",
            "_________________________________________________________________\n",
            "flatten (Flatten)            (None, 25600)             0         \n",
            "_________________________________________________________________\n",
            "dense_5 (Dense)              (None, 10)                256010    \n",
            "=================================================================\n",
            "Total params: 280,394\n",
            "Trainable params: 280,394\n",
            "Non-trainable params: 0\n",
            "_________________________________________________________________\n"
          ],
          "name": "stdout"
        }
      ]
    },
    {
      "cell_type": "code",
      "metadata": {
        "id": "BrX-FIu95qP_",
        "colab_type": "code",
        "colab": {
          "base_uri": "https://localhost:8080/",
          "height": 969
        },
        "outputId": "aab31b53-a903-42db-9c40-dfb4d1c99fa7"
      },
      "source": [
        "# TODO: move to func, names\n",
        "# train \n",
        "# test \n",
        "# batch=128, epochs=100, rate=0.1\n",
        "def get_cnn_model_v2():\n",
        "  model = keras.Sequential()\n",
        "\n",
        "  model.add(Conv2D(filters=32, kernel_size=(3, 3), padding='same', activation='relu', name='conv_1_1', input_shape=(image_size_2D, image_size_2D, 1)))\n",
        "  model.add(BatchNormalization(name='normalization_1_1'))\n",
        "  model.add(Conv2D(filters=32, kernel_size=(3, 3), padding='same', activation='relu', name='conv_1_2'))\n",
        "  model.add(MaxPooling2D(pool_size=(2, 2), name='max_pool_1'))\n",
        "  model.add(BatchNormalization(name='normalization_1_2'))\n",
        "  model.add(Dropout(0.7, name='dropout_1'))\n",
        "\n",
        "  model.add(Conv2D(filters=64, kernel_size=(3, 3), padding='same', activation='relu', name='conv_2_1'))\n",
        "  model.add(BatchNormalization(name='normalization_2_1'))\n",
        "  model.add(Conv2D(filters=64, kernel_size=(3, 3), padding='same', activation='relu', name='conv_2_2'))\n",
        "  model.add(BatchNormalization(name='normalization_2_2'))\n",
        "  model.add(Conv2D(filters=64, kernel_size=(3, 3), padding='same', activation='relu', name='conv_2_3'))\n",
        "  model.add(BatchNormalization(name='normalization_2_3'))\n",
        "  model.add(MaxPooling2D(pool_size=(2, 2), name='max_pool_2'))\n",
        "  model.add(Dropout(0.5, name='dropout_2'))\n",
        "\n",
        "  model.add(Conv2D(filters=128, kernel_size=(3, 3), padding='same', activation='relu', name='conv_3_1'))\n",
        "  model.add(BatchNormalization(name='normalization_3_1'))\n",
        "  model.add(Conv2D(filters=128, kernel_size=(3, 3), padding='same', activation='relu', name='conv_3_2'))\n",
        "  model.add(MaxPooling2D(pool_size=(2, 2), name='max_pool_3'))\n",
        "  model.add(BatchNormalization(name='normalization_3_2'))\n",
        "  model.add(Dropout(0.6, name='dropout_3'))\n",
        "\n",
        "  model.add(Flatten(name='flatten'))\n",
        "  model.add(Dense(units=128, activation='relu', name='dense_4'))\n",
        "  model.add(Dropout(0.5, name='dropout_4'))\n",
        "  model.add(Dense(units=10, activation='softmax', name='normalization_4_2'))\n",
        "\n",
        "  return model\n",
        "\n",
        "get_cnn_model_v2().summary()"
      ],
      "execution_count": 48,
      "outputs": [
        {
          "output_type": "stream",
          "text": [
            "Model: \"sequential_21\"\n",
            "_________________________________________________________________\n",
            "Layer (type)                 Output Shape              Param #   \n",
            "=================================================================\n",
            "conv_1_1 (Conv2D)            (None, 28, 28, 32)        320       \n",
            "_________________________________________________________________\n",
            "normalization_1_1 (BatchNorm (None, 28, 28, 32)        128       \n",
            "_________________________________________________________________\n",
            "conv_1_2 (Conv2D)            (None, 28, 28, 32)        9248      \n",
            "_________________________________________________________________\n",
            "max_pool_1 (MaxPooling2D)    (None, 14, 14, 32)        0         \n",
            "_________________________________________________________________\n",
            "normalization_1_2 (BatchNorm (None, 14, 14, 32)        128       \n",
            "_________________________________________________________________\n",
            "dropout_1 (Dropout)          (None, 14, 14, 32)        0         \n",
            "_________________________________________________________________\n",
            "conv_2_1 (Conv2D)            (None, 14, 14, 64)        18496     \n",
            "_________________________________________________________________\n",
            "normalization_2_1 (BatchNorm (None, 14, 14, 64)        256       \n",
            "_________________________________________________________________\n",
            "conv_2_2 (Conv2D)            (None, 14, 14, 64)        36928     \n",
            "_________________________________________________________________\n",
            "normalization_2_2 (BatchNorm (None, 14, 14, 64)        256       \n",
            "_________________________________________________________________\n",
            "conv_2_3 (Conv2D)            (None, 14, 14, 64)        36928     \n",
            "_________________________________________________________________\n",
            "normalization_2_3 (BatchNorm (None, 14, 14, 64)        256       \n",
            "_________________________________________________________________\n",
            "max_pool_2 (MaxPooling2D)    (None, 7, 7, 64)          0         \n",
            "_________________________________________________________________\n",
            "dropout_2 (Dropout)          (None, 7, 7, 64)          0         \n",
            "_________________________________________________________________\n",
            "conv_3_1 (Conv2D)            (None, 7, 7, 128)         73856     \n",
            "_________________________________________________________________\n",
            "normalization_3_1 (BatchNorm (None, 7, 7, 128)         512       \n",
            "_________________________________________________________________\n",
            "conv_3_2 (Conv2D)            (None, 7, 7, 128)         147584    \n",
            "_________________________________________________________________\n",
            "max_pool_3 (MaxPooling2D)    (None, 3, 3, 128)         0         \n",
            "_________________________________________________________________\n",
            "normalization_3_2 (BatchNorm (None, 3, 3, 128)         512       \n",
            "_________________________________________________________________\n",
            "dropout_3 (Dropout)          (None, 3, 3, 128)         0         \n",
            "_________________________________________________________________\n",
            "flatten (Flatten)            (None, 1152)              0         \n",
            "_________________________________________________________________\n",
            "dense_4 (Dense)              (None, 128)               147584    \n",
            "_________________________________________________________________\n",
            "dropout_4 (Dropout)          (None, 128)               0         \n",
            "_________________________________________________________________\n",
            "normalization_4_2 (Dense)    (None, 10)                1290      \n",
            "=================================================================\n",
            "Total params: 474,282\n",
            "Trainable params: 473,258\n",
            "Non-trainable params: 1,024\n",
            "_________________________________________________________________\n"
          ],
          "name": "stdout"
        }
      ]
    },
    {
      "cell_type": "code",
      "metadata": {
        "id": "hkOyPo0LPfHG",
        "colab_type": "code",
        "colab": {}
      },
      "source": [
        "model = get_cnn_model_v2()\n",
        "opt = keras.optimizers.Adam(learning_rate=0.005)\n",
        "\n",
        "model.compile(loss='categorical_crossentropy', optimizer=opt, metrics=['accuracy'])"
      ],
      "execution_count": 66,
      "outputs": []
    },
    {
      "cell_type": "code",
      "metadata": {
        "id": "8ElQOixDMtfo",
        "colab_type": "code",
        "colab": {}
      },
      "source": [
        "datagen = ImageDataGenerator(\n",
        "  rotation_range=15,\n",
        "  width_shift_range=0.1,\n",
        "  height_shift_range=0.1,\n",
        "  zoom_range=0.1,\n",
        ")\n",
        "datagen.fit(image_to_3D(X_train))"
      ],
      "execution_count": 50,
      "outputs": []
    },
    {
      "cell_type": "code",
      "metadata": {
        "id": "BaIfvgKP1_dQ",
        "colab_type": "code",
        "colab": {
          "base_uri": "https://localhost:8080/",
          "height": 921
        },
        "outputId": "7ef696e3-cbaf-40e9-809d-1724a4db9574"
      },
      "source": [
        "history = None\n",
        "EPOCHS_COUNT = 100\n",
        "\n",
        "with tf.device('/device:GPU:0'):\n",
        "  history = model.fit_generator(\n",
        "      datagen.flow(\n",
        "        image_to_3D(X_train),\n",
        "        Y_train,\n",
        "        batch_size=256\n",
        "      ),\n",
        "      epochs=EPOCHS_COUNT,\n",
        "      validation_data=(image_to_3D(X_test), Y_test),\n",
        "      verbose=1\n",
        "  )"
      ],
      "execution_count": null,
      "outputs": [
        {
          "output_type": "stream",
          "text": [
            "Epoch 1/100\n",
            "148/148 [==============================] - 9s 60ms/step - loss: 1.1453 - accuracy: 0.6139 - val_loss: 2.3047 - val_accuracy: 0.7040\n",
            "Epoch 2/100\n",
            "148/148 [==============================] - 9s 59ms/step - loss: 0.3241 - accuracy: 0.9078 - val_loss: 0.2234 - val_accuracy: 0.9498\n",
            "Epoch 3/100\n",
            "148/148 [==============================] - 9s 59ms/step - loss: 0.2145 - accuracy: 0.9412 - val_loss: 0.0892 - val_accuracy: 0.9793\n",
            "Epoch 4/100\n",
            "148/148 [==============================] - 9s 60ms/step - loss: 0.1773 - accuracy: 0.9518 - val_loss: 0.0840 - val_accuracy: 0.9805\n",
            "Epoch 5/100\n",
            "148/148 [==============================] - 9s 59ms/step - loss: 0.1450 - accuracy: 0.9606 - val_loss: 0.0522 - val_accuracy: 0.9874\n",
            "Epoch 6/100\n",
            "148/148 [==============================] - 9s 59ms/step - loss: 0.1307 - accuracy: 0.9649 - val_loss: 0.0445 - val_accuracy: 0.9888\n",
            "Epoch 7/100\n",
            "148/148 [==============================] - 9s 60ms/step - loss: 0.1155 - accuracy: 0.9691 - val_loss: 0.0554 - val_accuracy: 0.9871\n",
            "Epoch 8/100\n",
            "148/148 [==============================] - 9s 59ms/step - loss: 0.1094 - accuracy: 0.9711 - val_loss: 0.0495 - val_accuracy: 0.9893\n",
            "Epoch 9/100\n",
            "148/148 [==============================] - 9s 59ms/step - loss: 0.0966 - accuracy: 0.9736 - val_loss: 0.0378 - val_accuracy: 0.9900\n",
            "Epoch 10/100\n",
            "148/148 [==============================] - 9s 59ms/step - loss: 0.0973 - accuracy: 0.9743 - val_loss: 0.0352 - val_accuracy: 0.9917\n",
            "Epoch 11/100\n",
            "148/148 [==============================] - 9s 60ms/step - loss: 0.0884 - accuracy: 0.9760 - val_loss: 0.0389 - val_accuracy: 0.9910\n",
            "Epoch 12/100\n",
            "148/148 [==============================] - 9s 59ms/step - loss: 0.0859 - accuracy: 0.9774 - val_loss: 0.0446 - val_accuracy: 0.9905\n",
            "Epoch 13/100\n",
            "148/148 [==============================] - 9s 60ms/step - loss: 0.0800 - accuracy: 0.9781 - val_loss: 0.0446 - val_accuracy: 0.9898\n",
            "Epoch 14/100\n",
            "148/148 [==============================] - 9s 60ms/step - loss: 0.0803 - accuracy: 0.9793 - val_loss: 0.0240 - val_accuracy: 0.9919\n",
            "Epoch 15/100\n",
            "148/148 [==============================] - 9s 59ms/step - loss: 0.0723 - accuracy: 0.9813 - val_loss: 0.0376 - val_accuracy: 0.9910\n",
            "Epoch 16/100\n",
            "148/148 [==============================] - 9s 59ms/step - loss: 0.0712 - accuracy: 0.9810 - val_loss: 0.0338 - val_accuracy: 0.9912\n",
            "Epoch 17/100\n",
            "148/148 [==============================] - 9s 59ms/step - loss: 0.0641 - accuracy: 0.9824 - val_loss: 0.0320 - val_accuracy: 0.9931\n",
            "Epoch 18/100\n",
            "148/148 [==============================] - 9s 60ms/step - loss: 0.0663 - accuracy: 0.9823 - val_loss: 0.0311 - val_accuracy: 0.9926\n",
            "Epoch 19/100\n",
            "148/148 [==============================] - 9s 59ms/step - loss: 0.0682 - accuracy: 0.9822 - val_loss: 0.0334 - val_accuracy: 0.9929\n",
            "Epoch 20/100\n",
            "148/148 [==============================] - 9s 59ms/step - loss: 0.0641 - accuracy: 0.9828 - val_loss: 0.0361 - val_accuracy: 0.9921\n",
            "Epoch 21/100\n",
            "148/148 [==============================] - 9s 59ms/step - loss: 0.0626 - accuracy: 0.9828 - val_loss: 0.0322 - val_accuracy: 0.9919\n",
            "Epoch 22/100\n",
            "148/148 [==============================] - 9s 60ms/step - loss: 0.0621 - accuracy: 0.9830 - val_loss: 0.0230 - val_accuracy: 0.9950\n",
            "Epoch 23/100\n",
            "148/148 [==============================] - 9s 60ms/step - loss: 0.0643 - accuracy: 0.9833 - val_loss: 0.0288 - val_accuracy: 0.9931\n",
            "Epoch 24/100\n",
            "148/148 [==============================] - 9s 59ms/step - loss: 0.0615 - accuracy: 0.9838 - val_loss: 0.0299 - val_accuracy: 0.9917\n",
            "Epoch 25/100\n",
            "148/148 [==============================] - 9s 59ms/step - loss: 0.0575 - accuracy: 0.9850 - val_loss: 0.0298 - val_accuracy: 0.9929\n",
            "Epoch 26/100\n",
            " 18/148 [==>...........................] - ETA: 6s - loss: 0.0598 - accuracy: 0.9845"
          ],
          "name": "stdout"
        }
      ]
    },
    {
      "cell_type": "code",
      "metadata": {
        "id": "DSXR8cWZUcVI",
        "colab_type": "code",
        "colab": {
          "base_uri": "https://localhost:8080/",
          "height": 483
        },
        "outputId": "360e7072-a38c-4e3d-ae13-f1dc452c3341"
      },
      "source": [
        "epochs_range = range(1, EPOCHS_COUNT + 1)\n",
        "\n",
        "plt.figure(figsize=(10, 8))\n",
        "plt.subplot(2, 1, 1)\n",
        "plt.plot(epochs_range, history.history['loss'], scaley='log')\n",
        "plt.plot(epochs_range, history.history['val_loss'], scaley='log')\n",
        "\n",
        "plt.subplot(2, 1, 2)\n",
        "plt.plot(epochs_range, history.history['accuracy'], scaley='log')\n",
        "plt.plot(epochs_range, history.history['val_accuracy'], scaley='log')\n",
        "\n",
        "plt.yscale('log')\n",
        "plt.show()"
      ],
      "execution_count": 65,
      "outputs": [
        {
          "output_type": "display_data",
          "data": {
            "image/png": "[encoded data removed]",
            "text/plain": [
              "<Figure size 720x576 with 2 Axes>"
            ]
          },
          "metadata": {
            "tags": [],
            "needs_background": "light"
          }
        }
      ]
    },
    {
      "cell_type": "code",
      "metadata": {
        "id": "wYqlGM8X0yA6",
        "colab_type": "code",
        "colab": {}
      },
      "source": [
        "with tf.device('/device:GPU:0'):\n",
        "  # Y_valid = model.predict(X_valid) # For FC model\n",
        "  Y_valid = model.predict(X_valid.reshape(-1, image_size_2D, image_size_2D, 1))\n",
        "  tf.argmax(Y_valid, axis=0)\n",
        "  result = pd.DataFrame({ 'imageId': range(1, Y_valid.shape[0] + 1), 'Label': tf.argmax(Y_valid, axis=1) })\n",
        "  result.to_csv('result.csv', index=False)"
      ],
      "execution_count": null,
      "outputs": []
    },
    {
      "cell_type": "code",
      "metadata": {
        "id": "ADVV3gPHGOLF",
        "colab_type": "code",
        "colab": {}
      },
      "source": [
        ""
      ],
      "execution_count": null,
      "outputs": []
    }
  ]
}